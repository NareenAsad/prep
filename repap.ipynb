{
 "cells": [
  {
   "cell_type": "markdown",
   "id": "fda4a5f5",
   "metadata": {},
   "source": [
    "Q1:"
   ]
  },
  {
   "cell_type": "code",
   "execution_count": null,
   "id": "a7c92ead",
   "metadata": {},
   "outputs": [],
   "source": [
    "import numpy as np\n",
    "import matplotlib.pyplot as plt\n",
    "from keras.models import Sequential\n",
    "from keras.layers import Dense\n",
    "from keras.layers import LSTM\n",
    "from keras.layers import SimpleRNN"
   ]
  },
  {
   "cell_type": "code",
   "execution_count": null,
   "id": "59d580bb",
   "metadata": {},
   "outputs": [],
   "source": [
    "X_train = np.arange(0,100,0.5) \n",
    "y_train = np.sin(X_train)\n",
    "\n",
    "X_test = np.arange(100,200,0.5) \n",
    "y_test = np.sin(X_test)\n",
    "\n",
    "n_features = 1\n",
    "\n",
    "train_series = y_train.reshape((len(y_train), n_features))\n",
    "test_series  = y_test.reshape((len(y_test), n_features))"
   ]
  },
  {
   "cell_type": "code",
   "execution_count": null,
   "id": "73359581",
   "metadata": {},
   "outputs": [],
   "source": [
    "from keras.preprocessing.sequence import TimeseriesGenerator\n",
    "\n",
    "look_back  = 20\n",
    "train_generator = TimeseriesGenerator(train_series, train_series,\n",
    "                                      length        = look_back, \n",
    "                                      sampling_rate = 1,\n",
    "                                      stride        = 1,\n",
    "                                      batch_size    = 10)\n",
    "test_generator = TimeseriesGenerator(test_series, test_series,\n",
    "                                      length        = look_back, \n",
    "                                      sampling_rate = 1,\n",
    "                                      stride        = 1,\n",
    "                                      batch_size    = 10)"
   ]
  },
  {
   "cell_type": "code",
   "execution_count": null,
   "id": "d2bce062",
   "metadata": {},
   "outputs": [],
   "source": [
    "def make_LSTM_model():\n",
    "    n_neurons  = 2\n",
    "    model = Sequential()\n",
    "    model.add(LSTM(n_neurons, input_shape=(look_back, n_features)))\n",
    "    model.add(Dense(1))\n",
    "    model.compile(optimizer='adam', loss='mse')\n",
    "    return model"
   ]
  },
  {
   "cell_type": "code",
   "execution_count": null,
   "id": "365112b1",
   "metadata": {},
   "outputs": [],
   "source": [
    "model = make_LSTM_model()\n",
    "model.fit_generator(train_generator,epochs=40, verbose=0)"
   ]
  },
  {
   "cell_type": "code",
   "execution_count": null,
   "id": "835e5edc",
   "metadata": {},
   "outputs": [],
   "source": [
    "test_predictions  = model.predict_generator(test_generator)"
   ]
  },
  {
   "cell_type": "code",
   "execution_count": null,
   "id": "de591065",
   "metadata": {},
   "outputs": [],
   "source": [
    "x = np.arange(110,200,0.5)\n",
    "fig, ax = plt.subplots(1, 1, figsize=(15, 5))\n",
    "ax.plot(X_train,y_train, lw=2, label='train data')\n",
    "ax.plot(X_test,y_test, lw=3, c='y', label='test data')\n",
    "ax.plot(x,test_predictions, lw=3, c='r',linestyle = ':', label='predictions')\n",
    "ax.legend(loc=\"lower left\")\n",
    "plt.show()"
   ]
  },
  {
   "cell_type": "code",
   "execution_count": null,
   "id": "cb15f3bb",
   "metadata": {},
   "outputs": [],
   "source": [
    "def make_RNN_model():\n",
    "    n_neurons  = 2\n",
    "    model = Sequential()\n",
    "    model.add(SimpleRNN(n_neurons, input_shape=(look_back, n_features)))\n",
    "    model.add(Dense(1))\n",
    "    model.compile(optimizer='adam', loss='mse')\n",
    "    return model"
   ]
  },
  {
   "cell_type": "code",
   "execution_count": null,
   "id": "006cf8d9",
   "metadata": {},
   "outputs": [],
   "source": [
    "model = make_RNN_model()\n",
    "model.fit_generator(train_generator,epochs=15, verbose=0)"
   ]
  },
  {
   "cell_type": "code",
   "execution_count": null,
   "id": "7d8ffb42",
   "metadata": {},
   "outputs": [],
   "source": [
    "test_predictions  = model.predict_generator(test_generator)"
   ]
  },
  {
   "cell_type": "code",
   "execution_count": null,
   "id": "43b6c2ad",
   "metadata": {},
   "outputs": [],
   "source": [
    "x = np.arange(110,200,0.5)\n",
    "fig, ax = plt.subplots(1, 1, figsize=(15, 5))\n",
    "ax.plot(X_train,y_train, lw=2, label='train data')\n",
    "ax.plot(X_test,y_test, lw=3, c='y', label='test data')\n",
    "ax.plot(x,test_predictions, lw=3, c='r',linestyle = ':', label='predictions')\n",
    "ax.legend(loc=\"lower left\")\n",
    "plt.show()"
   ]
  },
  {
   "cell_type": "markdown",
   "id": "54b6562f",
   "metadata": {},
   "source": [
    "Q2:"
   ]
  },
  {
   "cell_type": "code",
   "execution_count": null,
   "id": "c35ec48e",
   "metadata": {},
   "outputs": [],
   "source": [
    "from sklearn.datasets import make_regression\n",
    "from sklearn.datasets import make_classification\n",
    "\n",
    "from sklearn.model_selection import train_test_split\n",
    "\n",
    "from sklearn.ensemble import RandomForestClassifier\n",
    "from sklearn.ensemble import RandomForestRegressor\n",
    "\n",
    "from sklearn.metrics import classification_report\n",
    "from sklearn.metrics import mean_squared_error"
   ]
  },
  {
   "cell_type": "markdown",
   "id": "31248a44",
   "metadata": {},
   "source": [
    "RF Regression"
   ]
  },
  {
   "cell_type": "code",
   "execution_count": null,
   "id": "5d298c16",
   "metadata": {},
   "outputs": [],
   "source": [
    "X, y = make_regression(n_features=4, n_informative=2, random_state=0, shuffle=False)"
   ]
  },
  {
   "cell_type": "code",
   "execution_count": null,
   "id": "6c8be8fa",
   "metadata": {},
   "outputs": [],
   "source": [
    "x_train, x_test, y_train, y_test = train_test_split(X, y)"
   ]
  },
  {
   "cell_type": "code",
   "execution_count": null,
   "id": "3b439d0a",
   "metadata": {},
   "outputs": [],
   "source": [
    "regr = RandomForestRegressor(max_depth=2, random_state=0)"
   ]
  },
  {
   "cell_type": "code",
   "execution_count": null,
   "id": "06461a04",
   "metadata": {},
   "outputs": [],
   "source": [
    "regr.fit(x_train, y_train)"
   ]
  },
  {
   "cell_type": "code",
   "execution_count": null,
   "id": "8011e25e",
   "metadata": {},
   "outputs": [],
   "source": [
    "predictions = regr.predict(x_test)"
   ]
  },
  {
   "cell_type": "code",
   "execution_count": null,
   "id": "970fc44a",
   "metadata": {},
   "outputs": [],
   "source": [
    "predictions"
   ]
  },
  {
   "cell_type": "code",
   "execution_count": null,
   "id": "8f7d9b24",
   "metadata": {},
   "outputs": [],
   "source": [
    "mean_squared_error(y_true=y_test, y_pred=predictions)"
   ]
  },
  {
   "cell_type": "markdown",
   "id": "f5fccc08",
   "metadata": {},
   "source": [
    "RF Classification"
   ]
  },
  {
   "cell_type": "code",
   "execution_count": null,
   "id": "2c5acc3c",
   "metadata": {},
   "outputs": [],
   "source": [
    "X, y = make_classification(n_samples=1000, n_features=4, n_informative=2, n_redundant=0, random_state=0, shuffle=False)"
   ]
  },
  {
   "cell_type": "code",
   "execution_count": null,
   "id": "db2fd004",
   "metadata": {},
   "outputs": [],
   "source": [
    "x_train, x_test, y_train, y_test = train_test_split(X, y)"
   ]
  },
  {
   "cell_type": "code",
   "execution_count": null,
   "id": "046a10cf",
   "metadata": {},
   "outputs": [],
   "source": [
    "clf = RandomForestClassifier(max_depth=2, random_state=0)"
   ]
  },
  {
   "cell_type": "code",
   "execution_count": null,
   "id": "f3d15e9c",
   "metadata": {},
   "outputs": [],
   "source": [
    "clf"
   ]
  },
  {
   "cell_type": "code",
   "execution_count": null,
   "id": "c17ba0ef",
   "metadata": {},
   "outputs": [],
   "source": [
    "clf.fit(x_train, y_train)"
   ]
  },
  {
   "cell_type": "code",
   "execution_count": null,
   "id": "7b66027d",
   "metadata": {},
   "outputs": [],
   "source": [
    "predictions = clf.predict(x_test)"
   ]
  },
  {
   "cell_type": "code",
   "execution_count": null,
   "id": "40d1aa47",
   "metadata": {},
   "outputs": [],
   "source": [
    "print(classification_report(y_true=y_test, y_pred=predictions))"
   ]
  },
  {
   "cell_type": "markdown",
   "id": "248fc8d2",
   "metadata": {},
   "source": [
    "Q3:"
   ]
  },
  {
   "cell_type": "code",
   "execution_count": null,
   "id": "ca1e6715",
   "metadata": {},
   "outputs": [],
   "source": [
    "from transformers import AutoModelForSequenceClassification\n",
    "from transformers import TFAutoModelForSequenceClassification\n",
    "from transformers import AutoTokenizer, AutoConfig\n",
    "import numpy as np\n",
    "from scipy.special import softmax"
   ]
  },
  {
   "cell_type": "code",
   "execution_count": null,
   "id": "d7d84ac7",
   "metadata": {},
   "outputs": [],
   "source": [
    "def preprocess(text):\n",
    "    new_text = []\n",
    "    for t in text.split(\" \"):\n",
    "        t = '@user' if t.startswith('@') and len(t) > 1 else t\n",
    "        t = 'http' if t.startswith('http') else t\n",
    "        new_text.append(t)\n",
    "    return \" \".join(new_text)\n",
    "MODEL = f\"cardiffnlp/twitter-roberta-base-sentiment-latest\"\n",
    "tokenizer = AutoTokenizer.from_pretrained(MODEL)\n",
    "config = AutoConfig.from_pretrained(MODEL)\n",
    "\n",
    "model = TFAutoModelForSequenceClassification.from_pretrained(MODEL)\n",
    "model.save_pretrained(MODEL)\n",
    "\n",
    "text = \"Covid cases are increasing fast!\"\n",
    "encoded_input = tokenizer(text, return_tensors='tf')\n",
    "output = model(encoded_input)\n",
    "scores = output[0][0].numpy()\n",
    "scores = softmax(scores)\n",
    "\n",
    "ranking = np.argsort(scores)\n",
    "ranking = ranking[::-1]\n",
    "for i in range(scores.shape[0]):\n",
    "    l = config.id2label[ranking[i]]\n",
    "    s = scores[ranking[i]]\n",
    "    print(f\"{i+1}) {l} {np.round(float(s), 4)}\")"
   ]
  },
  {
   "cell_type": "markdown",
   "id": "97983f61",
   "metadata": {},
   "source": [
    "Q4:"
   ]
  },
  {
   "cell_type": "code",
   "execution_count": null,
   "id": "0cec0c8d",
   "metadata": {},
   "outputs": [],
   "source": [
    "from sklearn.datasets import load_sample_images\n",
    "import numpy as np\n",
    "from keras.preprocessing.image import ImageDataGenerator\n",
    "from matplotlib import pyplot\n",
    "from PIL import Image as im\n",
    "import os"
   ]
  },
  {
   "cell_type": "code",
   "execution_count": null,
   "id": "52b04b6d",
   "metadata": {},
   "outputs": [],
   "source": [
    "data = load_sample_images()\n",
    "print(data)"
   ]
  },
  {
   "cell_type": "code",
   "execution_count": null,
   "id": "1d2393ee",
   "metadata": {},
   "outputs": [],
   "source": [
    "for i in data['images']:\n",
    "    pyplot.matshow(i)"
   ]
  },
  {
   "cell_type": "code",
   "execution_count": null,
   "id": "4176feed",
   "metadata": {},
   "outputs": [],
   "source": [
    "data.keys()"
   ]
  },
  {
   "cell_type": "code",
   "execution_count": null,
   "id": "84eb5b92",
   "metadata": {},
   "outputs": [],
   "source": [
    "len(data['images'])"
   ]
  },
  {
   "cell_type": "code",
   "execution_count": null,
   "id": "0d562026",
   "metadata": {},
   "outputs": [],
   "source": [
    "im_1 = data['images'][0]\n",
    "im_2 = data['images'][1]"
   ]
  },
  {
   "cell_type": "code",
   "execution_count": null,
   "id": "131511a2",
   "metadata": {},
   "outputs": [],
   "source": [
    "np.shape(im_1)"
   ]
  },
  {
   "cell_type": "markdown",
   "id": "dec23cbf",
   "metadata": {},
   "source": [
    "Image Reshaping for Data Augmentation"
   ]
  },
  {
   "cell_type": "code",
   "execution_count": null,
   "id": "a51b16af",
   "metadata": {},
   "outputs": [],
   "source": [
    "reshaped_im_1 = im_1.reshape(1,427,640,3)\n",
    "reshaped_im_2 = im_2.reshape(1,427,640,3)"
   ]
  },
  {
   "cell_type": "code",
   "execution_count": null,
   "id": "285bb0fe",
   "metadata": {},
   "outputs": [],
   "source": [
    "np.shape(reshaped_im_1)"
   ]
  },
  {
   "cell_type": "code",
   "execution_count": null,
   "id": "728d8822",
   "metadata": {},
   "outputs": [],
   "source": [
    "reshaped_im_1.dtype"
   ]
  },
  {
   "cell_type": "code",
   "execution_count": null,
   "id": "3643572b",
   "metadata": {},
   "outputs": [],
   "source": [
    "reshaped_im_1 = reshaped_im_1.astype(\"float32\")\n",
    "reshaped_im_2 = reshaped_im_2.astype(\"float32\")"
   ]
  },
  {
   "cell_type": "markdown",
   "id": "15bd7989",
   "metadata": {},
   "source": [
    "Data Augmentation"
   ]
  },
  {
   "cell_type": "code",
   "execution_count": null,
   "id": "9bdf5ba0",
   "metadata": {},
   "outputs": [],
   "source": [
    "def image_genrator(no_of_images, directory, augmentation_type, iterator):\n",
    "    for i in range(no_of_images):\n",
    "        batch = iterator.next()\n",
    "        image_aray = batch[0].astype('uint8')\n",
    "        image = im.fromarray(image_aray)\n",
    "        image.save(os.path.join(directory,str(i)+ augmentation_type+\".png\"))\n",
    "\n",
    "def image_augment(image=None, augmentation_type=None, directory=None, no_of_images=0):\n",
    "    if augmentation_type==\"FSA\":\n",
    "        datagen = ImageDataGenerator(featurewise_center=True, featurewise_std_normalization=True)\n",
    "    \n",
    "    elif augmentation_type==\"Shift\":\n",
    "        shift = 0.3\n",
    "        datagen = ImageDataGenerator(width_shift_range=shift, height_shift_range=shift)\n",
    "        \n",
    "    elif augmentation_type==\"Flip\":\n",
    "        datagen = ImageDataGenerator(horizontal_flip=True, vertical_flip=True)\n",
    "\n",
    "    elif augmentation_type==\"RandomRot\":\n",
    "        datagen = ImageDataGenerator(rotation_range=90)\n",
    "    \n",
    "    datagen.fit(image)\n",
    "    iterator = datagen.flow(image, batch_size=1, shuffle=False)\n",
    "    image_genrator(no_of_images=no_of_images, directory=directory, augmentation_type=augmentation_type, iterator=iterator)"
   ]
  },
  {
   "cell_type": "markdown",
   "id": "e014ebbe",
   "metadata": {},
   "source": [
    "Generating 0 class Augmented Images"
   ]
  },
  {
   "cell_type": "code",
   "execution_count": null,
   "id": "d7c66dd1",
   "metadata": {},
   "outputs": [],
   "source": [
    "image_augment(image=reshaped_im_1, augmentation_type=\"FSA\", directory=\"augmented_dataset/0\", no_of_images=5)"
   ]
  },
  {
   "cell_type": "code",
   "execution_count": null,
   "id": "ad604784",
   "metadata": {},
   "outputs": [],
   "source": [
    "image_augment(image=reshaped_im_1, augmentation_type=\"Shift\", directory=\"augmented_dataset/0\", no_of_images=5)"
   ]
  },
  {
   "cell_type": "code",
   "execution_count": null,
   "id": "959dadc7",
   "metadata": {},
   "outputs": [],
   "source": [
    "image_augment(image=reshaped_im_1, augmentation_type=\"Flip\", directory=\"augmented_dataset/0\", no_of_images=5)"
   ]
  },
  {
   "cell_type": "code",
   "execution_count": null,
   "id": "e497ef35",
   "metadata": {},
   "outputs": [],
   "source": [
    "image_augment(image=reshaped_im_1, augmentation_type=\"RandomRot\", directory=\"augmented_dataset/0\", no_of_images=5)"
   ]
  },
  {
   "cell_type": "markdown",
   "id": "37abe230",
   "metadata": {},
   "source": [
    "Generating 1 class Augmented Images"
   ]
  },
  {
   "cell_type": "code",
   "execution_count": null,
   "id": "a3bc0ddf",
   "metadata": {},
   "outputs": [],
   "source": [
    "image_augment(image=reshaped_im_2, augmentation_type=\"FSA\", directory=\"augmented_dataset/1\", no_of_images=5)"
   ]
  },
  {
   "cell_type": "code",
   "execution_count": null,
   "id": "1ffcbeff",
   "metadata": {},
   "outputs": [],
   "source": [
    "image_augment(image=reshaped_im_2, augmentation_type=\"Shift\", directory=\"augmented_dataset/1\", no_of_images=5)"
   ]
  },
  {
   "cell_type": "code",
   "execution_count": null,
   "id": "88269da0",
   "metadata": {},
   "outputs": [],
   "source": [
    "image_augment(image=reshaped_im_2, augmentation_type=\"Flip\", directory=\"augmented_dataset/1\", no_of_images=5)"
   ]
  },
  {
   "cell_type": "code",
   "execution_count": null,
   "id": "ccb04da3",
   "metadata": {},
   "outputs": [],
   "source": [
    "image_augment(image=reshaped_im_2, augmentation_type=\"RandomRot\", directory=\"augmented_dataset/1\", no_of_images=5)"
   ]
  },
  {
   "cell_type": "markdown",
   "id": "8aa17ffe",
   "metadata": {},
   "source": [
    "CNN Based Image Classification"
   ]
  },
  {
   "cell_type": "code",
   "execution_count": null,
   "id": "44e2c699",
   "metadata": {},
   "outputs": [],
   "source": [
    "def load_files(data_folder):\n",
    "    files = list()\n",
    "    labels = list()\n",
    "    for folder in os.listdir(data_folder):\n",
    "        for file in os.listdir(os.path.join(data_folder,folder)):\n",
    "            file_name = os.path.join(data_folder, folder, file)\n",
    "            files.append(file_name)\n",
    "            labels.append(folder)\n",
    "    return files, labels"
   ]
  },
  {
   "cell_type": "code",
   "execution_count": null,
   "id": "7736835f",
   "metadata": {},
   "outputs": [],
   "source": [
    "file_names, label = load_files(\"augmented_dataset\")"
   ]
  },
  {
   "cell_type": "code",
   "execution_count": null,
   "id": "ff1548b7",
   "metadata": {},
   "outputs": [],
   "source": [
    "print(file_names[:5])\n",
    "print(label[:5])"
   ]
  },
  {
   "cell_type": "code",
   "execution_count": null,
   "id": "fede2c13",
   "metadata": {},
   "outputs": [],
   "source": [
    "import pandas as pd\n",
    "\n",
    "def data_loader(file_paths, labels):\n",
    "    data_frame = pd.DataFrame(columns=[\"images\", \"label\"])\n",
    "    for label, file in enumerate(file_paths):\n",
    "        \n",
    "        img = im.open(file)\n",
    "        img = np.array(img)\n",
    "        \n",
    "        data_frame.loc[len(data_frame.index)] = [img, labels[label]]\n",
    "    return data_frame"
   ]
  },
  {
   "cell_type": "code",
   "execution_count": null,
   "id": "ea7bd1a0",
   "metadata": {},
   "outputs": [],
   "source": [
    "df = data_loader(file_paths=file_names, labels=label)"
   ]
  },
  {
   "cell_type": "markdown",
   "id": "4b1a907b",
   "metadata": {},
   "source": [
    "Train-Test Split"
   ]
  },
  {
   "cell_type": "code",
   "execution_count": null,
   "id": "de4a733d",
   "metadata": {},
   "outputs": [],
   "source": [
    "from sklearn.model_selection import train_test_split\n",
    "\n",
    "X = df[\"images\"]\n",
    "y = df[\"label\"]\n",
    "X_train, X_test, y_train, y_test = train_test_split(X, y, test_size=0.1, stratify=y, shuffle=True)"
   ]
  },
  {
   "cell_type": "code",
   "execution_count": null,
   "id": "3babe4f1",
   "metadata": {},
   "outputs": [],
   "source": [
    "type(X_train[0])"
   ]
  },
  {
   "cell_type": "code",
   "execution_count": null,
   "id": "4834ad25",
   "metadata": {},
   "outputs": [],
   "source": [
    "X_train[0].shape"
   ]
  },
  {
   "cell_type": "code",
   "execution_count": null,
   "id": "aad4071c",
   "metadata": {},
   "outputs": [],
   "source": [
    "print(y_train.values)\n",
    "y_train = y_train.values.astype(int)\n",
    "print(y_train)\n",
    "y_test = y_test.values.astype(int)"
   ]
  },
  {
   "cell_type": "markdown",
   "id": "d0da2ea0",
   "metadata": {},
   "source": [
    "Reshaping for Keras"
   ]
  },
  {
   "cell_type": "code",
   "execution_count": null,
   "id": "84d1b899",
   "metadata": {},
   "outputs": [],
   "source": [
    "X_train = [img for img in X_train]\n",
    "X_train = np.array(X_train)\n",
    "print(X_train.shape)\n",
    "\n",
    "X_test = [img for img in X_test]\n",
    "X_test = np.array(X_test)\n",
    "print(X_test.shape)"
   ]
  },
  {
   "cell_type": "code",
   "execution_count": null,
   "id": "9d3464ab",
   "metadata": {},
   "outputs": [],
   "source": [
    "print(y_train.shape)\n",
    "print(y_test.shape)"
   ]
  },
  {
   "cell_type": "markdown",
   "id": "759fd4c5",
   "metadata": {},
   "source": [
    "Model"
   ]
  },
  {
   "cell_type": "code",
   "execution_count": null,
   "id": "76b8311a",
   "metadata": {},
   "outputs": [],
   "source": [
    "from sklearn.metrics import confusion_matrix\n",
    "from keras.models import Sequential\n",
    "from keras.layers import Dense, Dropout, Flatten, Conv2D, MaxPool2D\n",
    "from tensorflow.keras.optimizers import RMSprop,Adam"
   ]
  },
  {
   "cell_type": "code",
   "execution_count": null,
   "id": "7fffd203",
   "metadata": {},
   "outputs": [],
   "source": [
    "model = Sequential()\n",
    "\n",
    "model.add(Conv2D(filters=32,kernel_size=(3,3),padding='Same',activation='relu',input_shape=(427, 640, 3)))\n",
    "model.add(MaxPool2D(pool_size=(2,2)))\n",
    "model.add(Dropout(0.25))\n",
    "\n",
    "model.add(Conv2D(filters=32,kernel_size=(3,3),padding='Same',activation='relu'))\n",
    "model.add(MaxPool2D(pool_size=(2,2),strides=(2,2)))\n",
    "model.add(Dropout(0.25))\n",
    "\n",
    "model.add(Flatten())\n",
    "model.add(Dense(256, activation = \"relu\"))\n",
    "model.add(Dropout(0.5))\n",
    "model.add(Dense(1, activation = \"sigmoid\"))"
   ]
  },
  {
   "cell_type": "code",
   "execution_count": null,
   "id": "4f3c237a",
   "metadata": {},
   "outputs": [],
   "source": [
    "model.summary()"
   ]
  },
  {
   "cell_type": "code",
   "execution_count": null,
   "id": "52ebf472",
   "metadata": {},
   "outputs": [],
   "source": [
    "model.compile(optimizer=\"rmsprop\",loss=\"binary_crossentropy\",metrics=[\"accuracy\"])"
   ]
  },
  {
   "cell_type": "markdown",
   "id": "7bdd2ecf",
   "metadata": {},
   "source": [
    "Training"
   ]
  },
  {
   "cell_type": "code",
   "execution_count": null,
   "id": "93d80c80",
   "metadata": {},
   "outputs": [],
   "source": [
    "epochs=1\n",
    "\n",
    "history = model.fit(X_train, y_train, epochs=epochs, batch_size=4).history"
   ]
  },
  {
   "cell_type": "markdown",
   "id": "dc0dc231",
   "metadata": {},
   "source": [
    "Testing"
   ]
  },
  {
   "cell_type": "code",
   "execution_count": null,
   "id": "a5c39ddd",
   "metadata": {},
   "outputs": [],
   "source": [
    "prediction = model.predict(X_test)"
   ]
  },
  {
   "cell_type": "code",
   "execution_count": null,
   "id": "ac2ac784",
   "metadata": {},
   "outputs": [],
   "source": [
    "prediction"
   ]
  },
  {
   "cell_type": "code",
   "execution_count": null,
   "id": "3078f689",
   "metadata": {},
   "outputs": [],
   "source": [
    "prediction = np.where(prediction > 0.5, 1,0)"
   ]
  },
  {
   "cell_type": "code",
   "execution_count": null,
   "id": "39e6530f",
   "metadata": {},
   "outputs": [],
   "source": [
    "prediction"
   ]
  },
  {
   "cell_type": "markdown",
   "id": "9ddafc1d",
   "metadata": {},
   "source": [
    "Performance Evaluation"
   ]
  },
  {
   "cell_type": "code",
   "execution_count": null,
   "id": "5a5f7159",
   "metadata": {},
   "outputs": [],
   "source": [
    "from sklearn.metrics import classification_report as cr\n",
    "report = cr(y_true=y_test, y_pred=prediction)\n",
    "print(report)"
   ]
  },
  {
   "cell_type": "markdown",
   "id": "ed8f45b2",
   "metadata": {},
   "source": [
    "Save Keras Mode"
   ]
  },
  {
   "cell_type": "code",
   "execution_count": null,
   "id": "5669b22b",
   "metadata": {},
   "outputs": [],
   "source": [
    "model.save(\"./keras_model.model\")"
   ]
  },
  {
   "cell_type": "markdown",
   "id": "8b1eaa40",
   "metadata": {},
   "source": [
    "Model Deployment using TF-Lite"
   ]
  },
  {
   "cell_type": "code",
   "execution_count": null,
   "id": "486a3417",
   "metadata": {},
   "outputs": [],
   "source": [
    "import tensorflow\n",
    "import keras"
   ]
  },
  {
   "cell_type": "code",
   "execution_count": null,
   "id": "36effa1e",
   "metadata": {},
   "outputs": [],
   "source": [
    "model = keras.models.load_model(\"./keras_model.model\")\n",
    "\n",
    "converter = tensorflow.lite.TFLiteConverter.from_keras_model(model)\n",
    "tflite_model = converter.convert()\n",
    "\n",
    "with open('model.tflite', 'wb') as f:\n",
    "    f.write(tflite_model)"
   ]
  }
 ],
 "metadata": {
  "kernelspec": {
   "display_name": "Python 3",
   "language": "python",
   "name": "python3"
  },
  "language_info": {
   "codemirror_mode": {
    "name": "ipython",
    "version": 3
   },
   "file_extension": ".py",
   "mimetype": "text/x-python",
   "name": "python",
   "nbconvert_exporter": "python",
   "pygments_lexer": "ipython3",
   "version": "3.8.8"
  }
 },
 "nbformat": 4,
 "nbformat_minor": 5
}
